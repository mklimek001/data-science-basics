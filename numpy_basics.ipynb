{
  "nbformat": 4,
  "nbformat_minor": 0,
  "metadata": {
    "colab": {
      "provenance": []
    },
    "kernelspec": {
      "name": "python3",
      "display_name": "Python 3"
    },
    "language_info": {
      "name": "python"
    }
  },
  "cells": [
    {
      "cell_type": "markdown",
      "source": [
        "# Numpy introduction"
      ],
      "metadata": {
        "id": "dP0QKcJsez8m"
      }
    },
    {
      "cell_type": "code",
      "execution_count": null,
      "metadata": {
        "colab": {
          "base_uri": "https://localhost:8080/",
          "height": 36
        },
        "id": "gFyH9ZZQPvKm",
        "outputId": "91b52231-8ee2-458b-9dd3-c7a5d1840792"
      },
      "outputs": [
        {
          "output_type": "execute_result",
          "data": {
            "text/plain": [
              "'1.21.6'"
            ],
            "application/vnd.google.colaboratory.intrinsic+json": {
              "type": "string"
            }
          },
          "metadata": {},
          "execution_count": 154
        }
      ],
      "source": [
        "import numpy as np\n",
        "np.__version__"
      ]
    },
    {
      "cell_type": "code",
      "source": [
        "X = np.array([[1,2,3],[4,5,6]])\n",
        "X"
      ],
      "metadata": {
        "colab": {
          "base_uri": "https://localhost:8080/"
        },
        "id": "8FLSJ_jiRIqs",
        "outputId": "059000be-ee3f-4041-b638-c76f4f17191d"
      },
      "execution_count": null,
      "outputs": [
        {
          "output_type": "execute_result",
          "data": {
            "text/plain": [
              "array([[1, 2, 3],\n",
              "       [4, 5, 6]])"
            ]
          },
          "metadata": {},
          "execution_count": 155
        }
      ]
    },
    {
      "cell_type": "code",
      "source": [
        "X.ndim"
      ],
      "metadata": {
        "colab": {
          "base_uri": "https://localhost:8080/"
        },
        "id": "6iR7hOhFRarC",
        "outputId": "7ef9aefa-4865-4ae6-b566-58d8a7863be1"
      },
      "execution_count": null,
      "outputs": [
        {
          "output_type": "execute_result",
          "data": {
            "text/plain": [
              "2"
            ]
          },
          "metadata": {},
          "execution_count": 156
        }
      ]
    },
    {
      "cell_type": "code",
      "source": [
        "X.shape"
      ],
      "metadata": {
        "colab": {
          "base_uri": "https://localhost:8080/"
        },
        "id": "VpPgvO_7UXPW",
        "outputId": "9305eea3-cd98-47e8-fc50-56eaa73fd918"
      },
      "execution_count": null,
      "outputs": [
        {
          "output_type": "execute_result",
          "data": {
            "text/plain": [
              "(2, 3)"
            ]
          },
          "metadata": {},
          "execution_count": 157
        }
      ]
    },
    {
      "cell_type": "markdown",
      "source": [
        "#### Generowanie tablic"
      ],
      "metadata": {
        "id": "4YKfSYm1u3ew"
      }
    },
    {
      "cell_type": "code",
      "source": [
        "X = np.zeros(shape=(3,6))\n",
        "X"
      ],
      "metadata": {
        "colab": {
          "base_uri": "https://localhost:8080/"
        },
        "id": "T26-tfu-u2-a",
        "outputId": "15c34c5e-d84e-4374-d216-35454ea4e713"
      },
      "execution_count": null,
      "outputs": [
        {
          "output_type": "execute_result",
          "data": {
            "text/plain": [
              "array([[0., 0., 0., 0., 0., 0.],\n",
              "       [0., 0., 0., 0., 0., 0.],\n",
              "       [0., 0., 0., 0., 0., 0.]])"
            ]
          },
          "metadata": {},
          "execution_count": 158
        }
      ]
    },
    {
      "cell_type": "code",
      "source": [
        "X = np.ones((4,5), dtype='int')\n",
        "X"
      ],
      "metadata": {
        "colab": {
          "base_uri": "https://localhost:8080/"
        },
        "id": "XHlpGG7Iu19Z",
        "outputId": "148ea5ed-1c34-4f7a-ef1f-401d0c4e4985"
      },
      "execution_count": null,
      "outputs": [
        {
          "output_type": "execute_result",
          "data": {
            "text/plain": [
              "array([[1, 1, 1, 1, 1],\n",
              "       [1, 1, 1, 1, 1],\n",
              "       [1, 1, 1, 1, 1],\n",
              "       [1, 1, 1, 1, 1]])"
            ]
          },
          "metadata": {},
          "execution_count": 159
        }
      ]
    },
    {
      "cell_type": "code",
      "source": [
        "X = np.full(shape=(3,4), fill_value = 21.37)\n",
        "X"
      ],
      "metadata": {
        "id": "_RHFR3ADU1NZ",
        "colab": {
          "base_uri": "https://localhost:8080/"
        },
        "outputId": "a7f25e7f-7465-4eda-a35b-0d65e606e676"
      },
      "execution_count": null,
      "outputs": [
        {
          "output_type": "execute_result",
          "data": {
            "text/plain": [
              "array([[21.37, 21.37, 21.37, 21.37],\n",
              "       [21.37, 21.37, 21.37, 21.37],\n",
              "       [21.37, 21.37, 21.37, 21.37]])"
            ]
          },
          "metadata": {},
          "execution_count": 160
        }
      ]
    },
    {
      "cell_type": "code",
      "source": [
        "X = np.arange(3, 9, 0.3)\n",
        "X"
      ],
      "metadata": {
        "colab": {
          "base_uri": "https://localhost:8080/"
        },
        "id": "MbF8Qm0dwIac",
        "outputId": "55d92f97-2261-47ff-d2f5-b51da9f375fd"
      },
      "execution_count": null,
      "outputs": [
        {
          "output_type": "execute_result",
          "data": {
            "text/plain": [
              "array([3. , 3.3, 3.6, 3.9, 4.2, 4.5, 4.8, 5.1, 5.4, 5.7, 6. , 6.3, 6.6,\n",
              "       6.9, 7.2, 7.5, 7.8, 8.1, 8.4, 8.7])"
            ]
          },
          "metadata": {},
          "execution_count": 161
        }
      ]
    },
    {
      "cell_type": "code",
      "source": [
        "X.shape"
      ],
      "metadata": {
        "colab": {
          "base_uri": "https://localhost:8080/"
        },
        "id": "7sWxIq9dwecd",
        "outputId": "6db4fa56-9e0a-4411-9031-f1cdf3c209bb"
      },
      "execution_count": null,
      "outputs": [
        {
          "output_type": "execute_result",
          "data": {
            "text/plain": [
              "(20,)"
            ]
          },
          "metadata": {},
          "execution_count": 162
        }
      ]
    },
    {
      "cell_type": "code",
      "source": [
        "X = X.reshape(4, -1)\n",
        "X"
      ],
      "metadata": {
        "colab": {
          "base_uri": "https://localhost:8080/"
        },
        "id": "irMcWpiwwkIK",
        "outputId": "8bc11333-ae6d-4afd-b206-3556312efb63"
      },
      "execution_count": null,
      "outputs": [
        {
          "output_type": "execute_result",
          "data": {
            "text/plain": [
              "array([[3. , 3.3, 3.6, 3.9, 4.2],\n",
              "       [4.5, 4.8, 5.1, 5.4, 5.7],\n",
              "       [6. , 6.3, 6.6, 6.9, 7.2],\n",
              "       [7.5, 7.8, 8.1, 8.4, 8.7]])"
            ]
          },
          "metadata": {},
          "execution_count": 163
        }
      ]
    },
    {
      "cell_type": "code",
      "source": [
        "X.reshape(5,-1)"
      ],
      "metadata": {
        "colab": {
          "base_uri": "https://localhost:8080/"
        },
        "id": "cxGIrrnHxcLq",
        "outputId": "c352565b-6d25-4828-cd10-255f115cc66d"
      },
      "execution_count": null,
      "outputs": [
        {
          "output_type": "execute_result",
          "data": {
            "text/plain": [
              "array([[3. , 3.3, 3.6, 3.9],\n",
              "       [4.2, 4.5, 4.8, 5.1],\n",
              "       [5.4, 5.7, 6. , 6.3],\n",
              "       [6.6, 6.9, 7.2, 7.5],\n",
              "       [7.8, 8.1, 8.4, 8.7]])"
            ]
          },
          "metadata": {},
          "execution_count": 164
        }
      ]
    },
    {
      "cell_type": "code",
      "source": [
        "X.reshape(2,2,-1)"
      ],
      "metadata": {
        "colab": {
          "base_uri": "https://localhost:8080/"
        },
        "id": "7FcKeu6vxsAu",
        "outputId": "48295020-3bfb-4eb4-dc2d-c0bf4f30b824"
      },
      "execution_count": null,
      "outputs": [
        {
          "output_type": "execute_result",
          "data": {
            "text/plain": [
              "array([[[3. , 3.3, 3.6, 3.9, 4.2],\n",
              "        [4.5, 4.8, 5.1, 5.4, 5.7]],\n",
              "\n",
              "       [[6. , 6.3, 6.6, 6.9, 7.2],\n",
              "        [7.5, 7.8, 8.1, 8.4, 8.7]]])"
            ]
          },
          "metadata": {},
          "execution_count": 165
        }
      ]
    },
    {
      "cell_type": "code",
      "source": [
        "X = np.linspace(start=0, stop=3, num=16)\n",
        "X"
      ],
      "metadata": {
        "colab": {
          "base_uri": "https://localhost:8080/"
        },
        "id": "TVkLoxQxBNoW",
        "outputId": "f301e0ea-0412-41e0-f8c0-425c3eda0fb8"
      },
      "execution_count": null,
      "outputs": [
        {
          "output_type": "execute_result",
          "data": {
            "text/plain": [
              "array([0. , 0.2, 0.4, 0.6, 0.8, 1. , 1.2, 1.4, 1.6, 1.8, 2. , 2.2, 2.4,\n",
              "       2.6, 2.8, 3. ])"
            ]
          },
          "metadata": {},
          "execution_count": 166
        }
      ]
    },
    {
      "cell_type": "markdown",
      "source": [
        "#### Działania na macierzach"
      ],
      "metadata": {
        "id": "qvhPpreHx4C8"
      }
    },
    {
      "cell_type": "code",
      "source": [
        "A = np.array([[1, 2], [3,4]])\n",
        "print(A)\n",
        "B = np.array([[1, 1], [1,1]])\n",
        "print(B)"
      ],
      "metadata": {
        "colab": {
          "base_uri": "https://localhost:8080/"
        },
        "id": "YAWf5G8_x8hM",
        "outputId": "222e85f5-2596-4977-c292-976e5052d807"
      },
      "execution_count": null,
      "outputs": [
        {
          "output_type": "stream",
          "name": "stdout",
          "text": [
            "[[1 2]\n",
            " [3 4]]\n",
            "[[1 1]\n",
            " [1 1]]\n"
          ]
        }
      ]
    },
    {
      "cell_type": "code",
      "source": [
        "print(A + B)\n",
        "print(np.add(A, B))"
      ],
      "metadata": {
        "colab": {
          "base_uri": "https://localhost:8080/"
        },
        "id": "MhqlMgFqzOBa",
        "outputId": "6fd2ee7e-1374-4679-8d94-d57ab795245f"
      },
      "execution_count": null,
      "outputs": [
        {
          "output_type": "stream",
          "name": "stdout",
          "text": [
            "[[2 3]\n",
            " [4 5]]\n",
            "[[2 3]\n",
            " [4 5]]\n"
          ]
        }
      ]
    },
    {
      "cell_type": "code",
      "source": [
        "print(A - B)\n",
        "print(np.subtract(A, B))"
      ],
      "metadata": {
        "colab": {
          "base_uri": "https://localhost:8080/"
        },
        "id": "objYbTjSyj63",
        "outputId": "64249da8-8edf-4e4f-8c30-c1623ef3f8ca"
      },
      "execution_count": null,
      "outputs": [
        {
          "output_type": "stream",
          "name": "stdout",
          "text": [
            "[[0 1]\n",
            " [2 3]]\n",
            "[[0 1]\n",
            " [2 3]]\n"
          ]
        }
      ]
    },
    {
      "cell_type": "code",
      "source": [
        "print(A * B)\n",
        "print(np.multiply(A, B))"
      ],
      "metadata": {
        "colab": {
          "base_uri": "https://localhost:8080/"
        },
        "id": "L-buzDZexxWO",
        "outputId": "7b43c494-d9cc-4e1b-b486-72f3e77e355f"
      },
      "execution_count": null,
      "outputs": [
        {
          "output_type": "stream",
          "name": "stdout",
          "text": [
            "[[1 2]\n",
            " [3 4]]\n",
            "[[1 2]\n",
            " [3 4]]\n"
          ]
        }
      ]
    },
    {
      "cell_type": "code",
      "source": [
        "print(A/B)\n",
        "print(np.divide(B, A))"
      ],
      "metadata": {
        "colab": {
          "base_uri": "https://localhost:8080/"
        },
        "id": "_f71IWCuy0Jn",
        "outputId": "ca7cd068-2f89-4579-cf1a-09964f8e0495"
      },
      "execution_count": null,
      "outputs": [
        {
          "output_type": "stream",
          "name": "stdout",
          "text": [
            "[[1. 2.]\n",
            " [3. 4.]]\n",
            "[[1.         0.5       ]\n",
            " [0.33333333 0.25      ]]\n"
          ]
        }
      ]
    },
    {
      "cell_type": "code",
      "source": [
        "A+3"
      ],
      "metadata": {
        "colab": {
          "base_uri": "https://localhost:8080/"
        },
        "id": "lu-pKs1dy44o",
        "outputId": "fd6f7aeb-240d-4ede-a9e3-2659a46c942e"
      },
      "execution_count": null,
      "outputs": [
        {
          "output_type": "execute_result",
          "data": {
            "text/plain": [
              "array([[4, 5],\n",
              "       [6, 7]])"
            ]
          },
          "metadata": {},
          "execution_count": 172
        }
      ]
    },
    {
      "cell_type": "code",
      "source": [
        "A/2"
      ],
      "metadata": {
        "colab": {
          "base_uri": "https://localhost:8080/"
        },
        "id": "-45fa0UEztmi",
        "outputId": "f39e737a-b58a-4597-c6ba-a87982ed6c04"
      },
      "execution_count": null,
      "outputs": [
        {
          "output_type": "execute_result",
          "data": {
            "text/plain": [
              "array([[0.5, 1. ],\n",
              "       [1.5, 2. ]])"
            ]
          },
          "metadata": {},
          "execution_count": 173
        }
      ]
    },
    {
      "cell_type": "code",
      "source": [
        "np.multiply(A, 3)"
      ],
      "metadata": {
        "colab": {
          "base_uri": "https://localhost:8080/"
        },
        "id": "x9JszaJLzv68",
        "outputId": "3aacedb3-0ed5-48ca-8ffe-b14deaa52e6d"
      },
      "execution_count": null,
      "outputs": [
        {
          "output_type": "execute_result",
          "data": {
            "text/plain": [
              "array([[ 3,  6],\n",
              "       [ 9, 12]])"
            ]
          },
          "metadata": {},
          "execution_count": 174
        }
      ]
    },
    {
      "cell_type": "code",
      "source": [
        "# Mnożenie macierzowe\n",
        "print(A.dot(B))\n",
        "print(np.dot(A, B))\n",
        "print(A @ B)"
      ],
      "metadata": {
        "colab": {
          "base_uri": "https://localhost:8080/"
        },
        "id": "2Krjis5oz3J3",
        "outputId": "6bb23f59-c437-4a18-9417-2e45b81fc194"
      },
      "execution_count": null,
      "outputs": [
        {
          "output_type": "stream",
          "name": "stdout",
          "text": [
            "[[3 3]\n",
            " [7 7]]\n",
            "[[3 3]\n",
            " [7 7]]\n",
            "[[3 3]\n",
            " [7 7]]\n"
          ]
        }
      ]
    },
    {
      "cell_type": "code",
      "source": [
        "print(B @ A)"
      ],
      "metadata": {
        "colab": {
          "base_uri": "https://localhost:8080/"
        },
        "id": "PZvQFiTM0QTA",
        "outputId": "1b2c2dac-fb59-471f-9408-497af6be80ce"
      },
      "execution_count": null,
      "outputs": [
        {
          "output_type": "stream",
          "name": "stdout",
          "text": [
            "[[4 6]\n",
            " [4 6]]\n"
          ]
        }
      ]
    },
    {
      "cell_type": "markdown",
      "source": [
        "#### Liczby pseudolosowe"
      ],
      "metadata": {
        "id": "hsPpit9O2Yq3"
      }
    },
    {
      "cell_type": "code",
      "source": [
        "np.random.seed(1)"
      ],
      "metadata": {
        "id": "yZkhuTGF2Yd7"
      },
      "execution_count": null,
      "outputs": []
    },
    {
      "cell_type": "code",
      "source": [
        "# Z rozkładu normalneg\n",
        "print(np.random.randn())\n",
        "print('')\n",
        "print(np.random.randn(10))\n",
        "print('')\n",
        "print(np.random.randn(3,3))"
      ],
      "metadata": {
        "colab": {
          "base_uri": "https://localhost:8080/"
        },
        "id": "mGwx_01l2Idr",
        "outputId": "3c0ca9e7-99d7-43b3-881b-d9a9a2375768"
      },
      "execution_count": null,
      "outputs": [
        {
          "output_type": "stream",
          "name": "stdout",
          "text": [
            "1.6243453636632417\n",
            "\n",
            "[-0.61175641 -0.52817175 -1.07296862  0.86540763 -2.3015387   1.74481176\n",
            " -0.7612069   0.3190391  -0.24937038  1.46210794]\n",
            "\n",
            "[[-2.06014071 -0.3224172  -0.38405435]\n",
            " [ 1.13376944 -1.09989127 -0.17242821]\n",
            " [-0.87785842  0.04221375  0.58281521]]\n"
          ]
        }
      ]
    },
    {
      "cell_type": "code",
      "source": [
        "# Liniowo z przedziału [0,1)\n",
        "print(np.random.rand())\n",
        "print('')\n",
        "print(np.random.rand(10))\n",
        "print('')\n",
        "print(np.random.rand(3,3))"
      ],
      "metadata": {
        "colab": {
          "base_uri": "https://localhost:8080/"
        },
        "id": "gndEwT7G203F",
        "outputId": "d2cb7cdb-3693-4d23-d977-ef58b288d9ea"
      },
      "execution_count": null,
      "outputs": [
        {
          "output_type": "stream",
          "name": "stdout",
          "text": [
            "0.6918771139504734\n",
            "\n",
            "[0.31551563 0.68650093 0.83462567 0.01828828 0.75014431 0.98886109\n",
            " 0.74816565 0.28044399 0.78927933 0.10322601]\n",
            "\n",
            "[[0.44789353 0.9085955  0.29361415]\n",
            " [0.28777534 0.13002857 0.01936696]\n",
            " [0.67883553 0.21162812 0.26554666]]\n"
          ]
        }
      ]
    },
    {
      "cell_type": "code",
      "source": [
        "# Całkowitoliczbowe\n",
        "print(np.random.randint(10))\n",
        "print('')\n",
        "print(np.random.randint(low=10, high=20, size=6))"
      ],
      "metadata": {
        "colab": {
          "base_uri": "https://localhost:8080/"
        },
        "id": "JkgyobXx2_aq",
        "outputId": "3e747431-cbf4-4525-e2c4-337b78bba4fd"
      },
      "execution_count": null,
      "outputs": [
        {
          "output_type": "stream",
          "name": "stdout",
          "text": [
            "7\n",
            "\n",
            "[17 19 17 13 10 18]\n"
          ]
        }
      ]
    },
    {
      "cell_type": "code",
      "source": [
        "X = np.arange(10, 0, -0.5)\n",
        "X"
      ],
      "metadata": {
        "colab": {
          "base_uri": "https://localhost:8080/"
        },
        "id": "SXs4Wjcd3aj9",
        "outputId": "7a563cb0-57e2-48fe-b001-1c066ff86ae1"
      },
      "execution_count": null,
      "outputs": [
        {
          "output_type": "execute_result",
          "data": {
            "text/plain": [
              "array([10. ,  9.5,  9. ,  8.5,  8. ,  7.5,  7. ,  6.5,  6. ,  5.5,  5. ,\n",
              "        4.5,  4. ,  3.5,  3. ,  2.5,  2. ,  1.5,  1. ,  0.5])"
            ]
          },
          "metadata": {},
          "execution_count": 181
        }
      ]
    },
    {
      "cell_type": "code",
      "source": [
        "X = X.reshape(5, -1)\n",
        "X"
      ],
      "metadata": {
        "colab": {
          "base_uri": "https://localhost:8080/"
        },
        "id": "YEnMnzRn3mez",
        "outputId": "1719e060-6e4c-4925-d846-c40f55946b12"
      },
      "execution_count": null,
      "outputs": [
        {
          "output_type": "execute_result",
          "data": {
            "text/plain": [
              "array([[10. ,  9.5,  9. ,  8.5],\n",
              "       [ 8. ,  7.5,  7. ,  6.5],\n",
              "       [ 6. ,  5.5,  5. ,  4.5],\n",
              "       [ 4. ,  3.5,  3. ,  2.5],\n",
              "       [ 2. ,  1.5,  1. ,  0.5]])"
            ]
          },
          "metadata": {},
          "execution_count": 182
        }
      ]
    },
    {
      "cell_type": "code",
      "source": [
        "np.random.shuffle(X)\n",
        "X"
      ],
      "metadata": {
        "colab": {
          "base_uri": "https://localhost:8080/"
        },
        "id": "F2uTVpHH3tG_",
        "outputId": "0e8b9566-606b-46af-ef94-4ec9c88a48fe"
      },
      "execution_count": null,
      "outputs": [
        {
          "output_type": "execute_result",
          "data": {
            "text/plain": [
              "array([[10. ,  9.5,  9. ,  8.5],\n",
              "       [ 6. ,  5.5,  5. ,  4.5],\n",
              "       [ 4. ,  3.5,  3. ,  2.5],\n",
              "       [ 2. ,  1.5,  1. ,  0.5],\n",
              "       [ 8. ,  7.5,  7. ,  6.5]])"
            ]
          },
          "metadata": {},
          "execution_count": 183
        }
      ]
    },
    {
      "cell_type": "code",
      "source": [
        "texts = np.array([\"Ala\", \"ma\", \"kota\", \"sierotka\", \"Marysia\"])\n",
        "texts"
      ],
      "metadata": {
        "colab": {
          "base_uri": "https://localhost:8080/"
        },
        "id": "otbShq5H3685",
        "outputId": "ccb6df00-8d81-4fa5-960b-7a370c3a742f"
      },
      "execution_count": null,
      "outputs": [
        {
          "output_type": "execute_result",
          "data": {
            "text/plain": [
              "array(['Ala', 'ma', 'kota', 'sierotka', 'Marysia'], dtype='<U8')"
            ]
          },
          "metadata": {},
          "execution_count": 184
        }
      ]
    },
    {
      "cell_type": "code",
      "source": [
        "np.random.choice(texts)"
      ],
      "metadata": {
        "colab": {
          "base_uri": "https://localhost:8080/",
          "height": 36
        },
        "id": "YLZPy2hY4Hjm",
        "outputId": "c29dc955-7672-4f34-b431-cd5e722561f5"
      },
      "execution_count": null,
      "outputs": [
        {
          "output_type": "execute_result",
          "data": {
            "text/plain": [
              "'Ala'"
            ],
            "application/vnd.google.colaboratory.intrinsic+json": {
              "type": "string"
            }
          },
          "metadata": {},
          "execution_count": 185
        }
      ]
    },
    {
      "cell_type": "markdown",
      "source": [
        "#### Iteracja"
      ],
      "metadata": {
        "id": "C8Z8fuCJ5v1C"
      }
    },
    {
      "cell_type": "code",
      "source": [
        "print(X)"
      ],
      "metadata": {
        "colab": {
          "base_uri": "https://localhost:8080/"
        },
        "id": "1vyb6O_45iNe",
        "outputId": "a21770bc-8b36-4232-f46e-2d9bac81fa61"
      },
      "execution_count": null,
      "outputs": [
        {
          "output_type": "stream",
          "name": "stdout",
          "text": [
            "[[10.   9.5  9.   8.5]\n",
            " [ 6.   5.5  5.   4.5]\n",
            " [ 4.   3.5  3.   2.5]\n",
            " [ 2.   1.5  1.   0.5]\n",
            " [ 8.   7.5  7.   6.5]]\n"
          ]
        }
      ]
    },
    {
      "cell_type": "code",
      "source": [
        "for item in X.flat:\n",
        "  print(item)"
      ],
      "metadata": {
        "colab": {
          "base_uri": "https://localhost:8080/"
        },
        "id": "Kn-5o9bb5ojZ",
        "outputId": "4683748c-9eaf-4af6-9e7c-6c4e5a234641"
      },
      "execution_count": null,
      "outputs": [
        {
          "output_type": "stream",
          "name": "stdout",
          "text": [
            "10.0\n",
            "9.5\n",
            "9.0\n",
            "8.5\n",
            "6.0\n",
            "5.5\n",
            "5.0\n",
            "4.5\n",
            "4.0\n",
            "3.5\n",
            "3.0\n",
            "2.5\n",
            "2.0\n",
            "1.5\n",
            "1.0\n",
            "0.5\n",
            "8.0\n",
            "7.5\n",
            "7.0\n",
            "6.5\n"
          ]
        }
      ]
    },
    {
      "cell_type": "code",
      "source": [
        "print(X.ravel())"
      ],
      "metadata": {
        "colab": {
          "base_uri": "https://localhost:8080/"
        },
        "id": "qALan0lf5xg_",
        "outputId": "02532855-3c82-41f2-d8c7-9269e2ed1de7"
      },
      "execution_count": null,
      "outputs": [
        {
          "output_type": "stream",
          "name": "stdout",
          "text": [
            "[10.   9.5  9.   8.5  6.   5.5  5.   4.5  4.   3.5  3.   2.5  2.   1.5\n",
            "  1.   0.5  8.   7.5  7.   6.5]\n"
          ]
        }
      ]
    },
    {
      "cell_type": "code",
      "source": [
        "# Macierz transponowana\n",
        "X.T"
      ],
      "metadata": {
        "colab": {
          "base_uri": "https://localhost:8080/"
        },
        "id": "FfN4nnHw54p8",
        "outputId": "b495fcca-ebff-4667-9175-64d7a34ddb0a"
      },
      "execution_count": null,
      "outputs": [
        {
          "output_type": "execute_result",
          "data": {
            "text/plain": [
              "array([[10. ,  6. ,  4. ,  2. ,  8. ],\n",
              "       [ 9.5,  5.5,  3.5,  1.5,  7.5],\n",
              "       [ 9. ,  5. ,  3. ,  1. ,  7. ],\n",
              "       [ 8.5,  4.5,  2.5,  0.5,  6.5]])"
            ]
          },
          "metadata": {},
          "execution_count": 189
        }
      ]
    },
    {
      "cell_type": "code",
      "source": [
        "np.transpose(X)"
      ],
      "metadata": {
        "colab": {
          "base_uri": "https://localhost:8080/"
        },
        "id": "HqVCf2s5By51",
        "outputId": "c13b058d-67a1-482d-ff78-c17da7ddc593"
      },
      "execution_count": null,
      "outputs": [
        {
          "output_type": "execute_result",
          "data": {
            "text/plain": [
              "array([[10. ,  6. ,  4. ,  2. ,  8. ],\n",
              "       [ 9.5,  5.5,  3.5,  1.5,  7.5],\n",
              "       [ 9. ,  5. ,  3. ,  1. ,  7. ],\n",
              "       [ 8.5,  4.5,  2.5,  0.5,  6.5]])"
            ]
          },
          "metadata": {},
          "execution_count": 190
        }
      ]
    },
    {
      "cell_type": "code",
      "source": [
        "# 2D slicing - najpierw wiersze, potem kolumny z tych wierszy - jak zwyczajny slicing\n",
        "print(X[1:4, 1:3])\n"
      ],
      "metadata": {
        "colab": {
          "base_uri": "https://localhost:8080/"
        },
        "id": "vMnfFiKW62z8",
        "outputId": "547c3c4b-7d18-4edd-c5ef-f995055e9365"
      },
      "execution_count": null,
      "outputs": [
        {
          "output_type": "stream",
          "name": "stdout",
          "text": [
            "[[5.5 5. ]\n",
            " [3.5 3. ]\n",
            " [1.5 1. ]]\n"
          ]
        }
      ]
    },
    {
      "cell_type": "markdown",
      "source": [
        "#### Maski logiczne"
      ],
      "metadata": {
        "id": "7SKH9Fh_6HBc"
      }
    },
    {
      "cell_type": "code",
      "source": [
        "X"
      ],
      "metadata": {
        "colab": {
          "base_uri": "https://localhost:8080/"
        },
        "id": "R14Emwvx6tYa",
        "outputId": "9092e410-a747-4f5d-baf1-f0dcbd47f4ba"
      },
      "execution_count": null,
      "outputs": [
        {
          "output_type": "execute_result",
          "data": {
            "text/plain": [
              "array([[10. ,  9.5,  9. ,  8.5],\n",
              "       [ 6. ,  5.5,  5. ,  4.5],\n",
              "       [ 4. ,  3.5,  3. ,  2.5],\n",
              "       [ 2. ,  1.5,  1. ,  0.5],\n",
              "       [ 8. ,  7.5,  7. ,  6.5]])"
            ]
          },
          "metadata": {},
          "execution_count": 192
        }
      ]
    },
    {
      "cell_type": "code",
      "source": [
        "X < 3"
      ],
      "metadata": {
        "colab": {
          "base_uri": "https://localhost:8080/"
        },
        "id": "an0syRkp6FWI",
        "outputId": "eeabe515-78ef-42fd-a57d-55742f253895"
      },
      "execution_count": null,
      "outputs": [
        {
          "output_type": "execute_result",
          "data": {
            "text/plain": [
              "array([[False, False, False, False],\n",
              "       [False, False, False, False],\n",
              "       [False, False, False,  True],\n",
              "       [ True,  True,  True,  True],\n",
              "       [False, False, False, False]])"
            ]
          },
          "metadata": {},
          "execution_count": 193
        }
      ]
    },
    {
      "cell_type": "code",
      "source": [
        "np.bitwise_and(X > 2, X%2 == 0)"
      ],
      "metadata": {
        "colab": {
          "base_uri": "https://localhost:8080/"
        },
        "id": "jNT4gFnc6PX1",
        "outputId": "0a6eaf4a-0dc2-4589-9165-28256b66185d"
      },
      "execution_count": null,
      "outputs": [
        {
          "output_type": "execute_result",
          "data": {
            "text/plain": [
              "array([[ True, False, False, False],\n",
              "       [ True, False, False, False],\n",
              "       [ True, False, False, False],\n",
              "       [False, False, False, False],\n",
              "       [ True, False, False, False]])"
            ]
          },
          "metadata": {},
          "execution_count": 194
        }
      ]
    },
    {
      "cell_type": "code",
      "source": [
        "np.bitwise_or(X > 7, X%3 == 0, X <= 1)"
      ],
      "metadata": {
        "colab": {
          "base_uri": "https://localhost:8080/"
        },
        "id": "yOCSt5uN6iSa",
        "outputId": "b8aa8ff3-446a-447a-b90e-7250cc428f66"
      },
      "execution_count": null,
      "outputs": [
        {
          "output_type": "execute_result",
          "data": {
            "text/plain": [
              "array([[ True,  True,  True,  True],\n",
              "       [ True, False, False, False],\n",
              "       [False, False,  True, False],\n",
              "       [False, False, False, False],\n",
              "       [ True,  True, False, False]])"
            ]
          },
          "metadata": {},
          "execution_count": 195
        }
      ]
    },
    {
      "cell_type": "markdown",
      "source": [
        "#### Proste funkcje matematyczne"
      ],
      "metadata": {
        "id": "szE6Xb8j7bXs"
      }
    },
    {
      "cell_type": "code",
      "source": [
        "# e^x\n",
        "x = 1\n",
        "np.exp(x)"
      ],
      "metadata": {
        "colab": {
          "base_uri": "https://localhost:8080/"
        },
        "id": "CgR-gY_v7g5G",
        "outputId": "2cb18874-2208-49fe-db8b-ff25fbae2de5"
      },
      "execution_count": null,
      "outputs": [
        {
          "output_type": "execute_result",
          "data": {
            "text/plain": [
              "2.718281828459045"
            ]
          },
          "metadata": {},
          "execution_count": 196
        }
      ]
    },
    {
      "cell_type": "code",
      "source": [
        "np.sqrt(16)"
      ],
      "metadata": {
        "colab": {
          "base_uri": "https://localhost:8080/"
        },
        "id": "TJu7tekW7nhI",
        "outputId": "48448921-7593-47c1-ae63-75deb4154cbd"
      },
      "execution_count": null,
      "outputs": [
        {
          "output_type": "execute_result",
          "data": {
            "text/plain": [
              "4.0"
            ]
          },
          "metadata": {},
          "execution_count": 197
        }
      ]
    },
    {
      "cell_type": "code",
      "source": [
        "# czy wszystkie != 0\n",
        "np.all([1, 2, -1])"
      ],
      "metadata": {
        "colab": {
          "base_uri": "https://localhost:8080/"
        },
        "id": "ruCgTmeU7qR4",
        "outputId": "3ecf6557-b3a8-4fef-e983-1251878831f4"
      },
      "execution_count": null,
      "outputs": [
        {
          "output_type": "execute_result",
          "data": {
            "text/plain": [
              "True"
            ]
          },
          "metadata": {},
          "execution_count": 198
        }
      ]
    },
    {
      "cell_type": "code",
      "source": [
        "# czy przynajmniej jedno != 0\n",
        "np.any([1, 0, 0, -1])"
      ],
      "metadata": {
        "colab": {
          "base_uri": "https://localhost:8080/"
        },
        "id": "xgLMJ-Xb7zpk",
        "outputId": "c627a696-8a0a-4e12-c935-5574f2921684"
      },
      "execution_count": null,
      "outputs": [
        {
          "output_type": "execute_result",
          "data": {
            "text/plain": [
              "True"
            ]
          },
          "metadata": {},
          "execution_count": 199
        }
      ]
    },
    {
      "cell_type": "code",
      "source": [
        "A = np.random.randint(0, 100, 6)\n",
        "A"
      ],
      "metadata": {
        "colab": {
          "base_uri": "https://localhost:8080/"
        },
        "id": "VvfyVmsu7-MC",
        "outputId": "fb92bbf8-8eab-4ad8-fb0a-441e17d36a62"
      },
      "execution_count": null,
      "outputs": [
        {
          "output_type": "execute_result",
          "data": {
            "text/plain": [
              "array([77,  6, 52, 85, 70,  2])"
            ]
          },
          "metadata": {},
          "execution_count": 200
        }
      ]
    },
    {
      "cell_type": "code",
      "source": [
        "# Maksimum\n",
        "print(np.argmax(A))\n",
        "print(A[np.argmax(A)])\n",
        "print(np.max(A))\n",
        "\n",
        "# Dla minimim analogicznie - argmin() i min()"
      ],
      "metadata": {
        "colab": {
          "base_uri": "https://localhost:8080/"
        },
        "id": "sJjx01ej8HTt",
        "outputId": "8d515351-e8f8-4a92-d517-ad81c3558d59"
      },
      "execution_count": null,
      "outputs": [
        {
          "output_type": "stream",
          "name": "stdout",
          "text": [
            "3\n",
            "85\n",
            "85\n"
          ]
        }
      ]
    },
    {
      "cell_type": "code",
      "source": [
        "np.argsort(A)"
      ],
      "metadata": {
        "colab": {
          "base_uri": "https://localhost:8080/"
        },
        "id": "8qoP4ffn83i8",
        "outputId": "751edacb-3cde-412d-9bd1-9f141c709edc"
      },
      "execution_count": null,
      "outputs": [
        {
          "output_type": "execute_result",
          "data": {
            "text/plain": [
              "array([5, 1, 2, 4, 0, 3])"
            ]
          },
          "metadata": {},
          "execution_count": 202
        }
      ]
    },
    {
      "cell_type": "code",
      "source": [
        "# średnia\n",
        "np.mean(A)"
      ],
      "metadata": {
        "colab": {
          "base_uri": "https://localhost:8080/"
        },
        "id": "PGb__4FC8qPi",
        "outputId": "a9754886-0ecb-4ad2-eb04-73909275d6a2"
      },
      "execution_count": null,
      "outputs": [
        {
          "output_type": "execute_result",
          "data": {
            "text/plain": [
              "48.666666666666664"
            ]
          },
          "metadata": {},
          "execution_count": 203
        }
      ]
    },
    {
      "cell_type": "code",
      "source": [
        "# mediana\n",
        "np.median(A)"
      ],
      "metadata": {
        "colab": {
          "base_uri": "https://localhost:8080/"
        },
        "id": "0Ccc_-Gd8yVa",
        "outputId": "d71a3de6-03df-4d41-ea56-40c4abde3ec3"
      },
      "execution_count": null,
      "outputs": [
        {
          "output_type": "execute_result",
          "data": {
            "text/plain": [
              "61.0"
            ]
          },
          "metadata": {},
          "execution_count": 204
        }
      ]
    },
    {
      "cell_type": "code",
      "source": [
        "# odchylenie standardowe\n",
        "np.std(A)"
      ],
      "metadata": {
        "colab": {
          "base_uri": "https://localhost:8080/"
        },
        "id": "oCclvJTq81Pa",
        "outputId": "b8663097-9a0a-48b0-ecd9-54216891214d"
      },
      "execution_count": null,
      "outputs": [
        {
          "output_type": "execute_result",
          "data": {
            "text/plain": [
              "33.134406421254766"
            ]
          },
          "metadata": {},
          "execution_count": 205
        }
      ]
    },
    {
      "cell_type": "code",
      "source": [
        "# Norma euklidesowa (długość wektora w R^n)\n",
        "V = np.array([1, 2, 3, 4])\n",
        "np.linalg.norm(V)"
      ],
      "metadata": {
        "colab": {
          "base_uri": "https://localhost:8080/"
        },
        "id": "w9Q65xMH9E2X",
        "outputId": "91d8cc40-71bb-4d49-8fea-b051c453cb3e"
      },
      "execution_count": null,
      "outputs": [
        {
          "output_type": "execute_result",
          "data": {
            "text/plain": [
              "5.477225575051661"
            ]
          },
          "metadata": {},
          "execution_count": 206
        }
      ]
    },
    {
      "cell_type": "code",
      "source": [
        "# Odległość dwóch punktów w R^n\n",
        "Y = np.array([0, 3, -2, 1])\n",
        "\n",
        "np.linalg.norm(V - Y)"
      ],
      "metadata": {
        "colab": {
          "base_uri": "https://localhost:8080/"
        },
        "id": "q7IAKpra_xqR",
        "outputId": "a503dfb9-ed21-4ca8-e3aa-a477d325accc"
      },
      "execution_count": null,
      "outputs": [
        {
          "output_type": "execute_result",
          "data": {
            "text/plain": [
              "6.0"
            ]
          },
          "metadata": {},
          "execution_count": 207
        }
      ]
    },
    {
      "cell_type": "code",
      "source": [
        "# Mnożenie macierzy\n",
        "X = np.array([[5, 3], [3, 9]])\n",
        "Z = np.array([[1], [-1]])\n",
        "np.dot(X, Z)"
      ],
      "metadata": {
        "colab": {
          "base_uri": "https://localhost:8080/"
        },
        "id": "LyRs44nlAUbr",
        "outputId": "c95f2fa9-4889-49b9-c963-a0e76aaf6146"
      },
      "execution_count": null,
      "outputs": [
        {
          "output_type": "execute_result",
          "data": {
            "text/plain": [
              "array([[ 2],\n",
              "       [-6]])"
            ]
          },
          "metadata": {},
          "execution_count": 208
        }
      ]
    },
    {
      "cell_type": "code",
      "source": [
        "# Wyznacznik macierzy\n",
        "X = np.arange(9)\n",
        "np.random.shuffle(X)\n",
        "X = X.reshape(3, -1)\n",
        "X"
      ],
      "metadata": {
        "colab": {
          "base_uri": "https://localhost:8080/"
        },
        "id": "dN6P7iY-AkNp",
        "outputId": "f10eb1e4-4851-4a32-fb2f-892dc72743e5"
      },
      "execution_count": null,
      "outputs": [
        {
          "output_type": "execute_result",
          "data": {
            "text/plain": [
              "array([[1, 2, 4],\n",
              "       [6, 7, 0],\n",
              "       [8, 3, 5]])"
            ]
          },
          "metadata": {},
          "execution_count": 209
        }
      ]
    },
    {
      "cell_type": "code",
      "source": [
        "np.linalg.det(X)"
      ],
      "metadata": {
        "colab": {
          "base_uri": "https://localhost:8080/"
        },
        "id": "CcLZ5wRCA4d1",
        "outputId": "20c5a998-e76c-419a-dfcd-1a4e5af2e506"
      },
      "execution_count": null,
      "outputs": [
        {
          "output_type": "execute_result",
          "data": {
            "text/plain": [
              "-176.99999999999994"
            ]
          },
          "metadata": {},
          "execution_count": 210
        }
      ]
    },
    {
      "cell_type": "code",
      "source": [
        "# Ślad macierzy - suma elementów na przekątnej\n",
        "np.trace(X)"
      ],
      "metadata": {
        "colab": {
          "base_uri": "https://localhost:8080/"
        },
        "id": "2yHkNIoaBWyt",
        "outputId": "9313b2ae-c0dd-47d7-8edf-ca6f849af898"
      },
      "execution_count": null,
      "outputs": [
        {
          "output_type": "execute_result",
          "data": {
            "text/plain": [
              "13"
            ]
          },
          "metadata": {},
          "execution_count": 211
        }
      ]
    },
    {
      "cell_type": "code",
      "source": [
        "# Macierz jednostkowa (ozn. I) - jedynki tylko na przekątnej, reszta zera\n",
        "np.eye(5)"
      ],
      "metadata": {
        "colab": {
          "base_uri": "https://localhost:8080/"
        },
        "id": "NXTTJfFmBfMh",
        "outputId": "e3de5361-2d7f-4f8c-e2af-6c5b1c476361"
      },
      "execution_count": null,
      "outputs": [
        {
          "output_type": "execute_result",
          "data": {
            "text/plain": [
              "array([[1., 0., 0., 0., 0.],\n",
              "       [0., 1., 0., 0., 0.],\n",
              "       [0., 0., 1., 0., 0.],\n",
              "       [0., 0., 0., 1., 0.],\n",
              "       [0., 0., 0., 0., 1.]])"
            ]
          },
          "metadata": {},
          "execution_count": 212
        }
      ]
    },
    {
      "cell_type": "code",
      "source": [
        "# Macierz odwrotna - B jest macierzą dowrotną A, gdy A@B == B@A == I (B ozn. A^(-1))\n",
        "np.linalg.inv(X)"
      ],
      "metadata": {
        "colab": {
          "base_uri": "https://localhost:8080/"
        },
        "id": "CD3bjPvJBmfR",
        "outputId": "c4fc6372-7b17-4359-d076-a7f159acf6f7"
      },
      "execution_count": null,
      "outputs": [
        {
          "output_type": "execute_result",
          "data": {
            "text/plain": [
              "array([[-0.19774011, -0.01129944,  0.15819209],\n",
              "       [ 0.16949153,  0.15254237, -0.13559322],\n",
              "       [ 0.21468927, -0.07344633,  0.02824859]])"
            ]
          },
          "metadata": {},
          "execution_count": 213
        }
      ]
    },
    {
      "cell_type": "markdown",
      "source": [
        "#### Statystyka"
      ],
      "metadata": {
        "id": "pmzM_jWxCq-7"
      }
    },
    {
      "cell_type": "code",
      "source": [
        "test = np.linspace(start=4, stop=6, num=24)\n",
        "np.random.shuffle(test)\n",
        "test = test.reshape((4, -1))\n",
        "test"
      ],
      "metadata": {
        "colab": {
          "base_uri": "https://localhost:8080/"
        },
        "id": "9U5TYZgeCqki",
        "outputId": "945a07ee-6a4c-47df-937b-e814be012359"
      },
      "execution_count": null,
      "outputs": [
        {
          "output_type": "execute_result",
          "data": {
            "text/plain": [
              "array([[4.26086957, 4.17391304, 4.95652174, 4.43478261, 4.52173913,\n",
              "        5.56521739],\n",
              "       [5.30434783, 5.47826087, 5.65217391, 4.69565217, 4.7826087 ,\n",
              "        5.2173913 ],\n",
              "       [4.08695652, 5.04347826, 5.82608696, 4.86956522, 5.73913043,\n",
              "        4.        ],\n",
              "       [5.39130435, 6.        , 5.13043478, 5.91304348, 4.60869565,\n",
              "        4.34782609]])"
            ]
          },
          "metadata": {},
          "execution_count": 214
        }
      ]
    },
    {
      "cell_type": "code",
      "source": [
        "print(test.sum())\n",
        "print(np.sum(test))\n",
        "print(test.sum(axis=0))\n",
        "print(test.sum(axis=1))"
      ],
      "metadata": {
        "colab": {
          "base_uri": "https://localhost:8080/"
        },
        "id": "e7S_crZzFPi2",
        "outputId": "13def220-a657-4a08-c43f-75c9552d2603"
      },
      "execution_count": null,
      "outputs": [
        {
          "output_type": "stream",
          "name": "stdout",
          "text": [
            "120.0\n",
            "120.0\n",
            "[19.04347826 20.69565217 21.56521739 19.91304348 19.65217391 19.13043478]\n",
            "[27.91304348 31.13043478 29.56521739 31.39130435]\n"
          ]
        }
      ]
    },
    {
      "cell_type": "code",
      "source": [
        "np.min(test, axis=0)"
      ],
      "metadata": {
        "colab": {
          "base_uri": "https://localhost:8080/"
        },
        "id": "9kjMi4rJFWLm",
        "outputId": "2d2b94e3-a7f8-4f4b-e43b-1968a9d36a74"
      },
      "execution_count": null,
      "outputs": [
        {
          "output_type": "execute_result",
          "data": {
            "text/plain": [
              "array([4.08695652, 4.17391304, 4.95652174, 4.43478261, 4.52173913,\n",
              "       4.        ])"
            ]
          },
          "metadata": {},
          "execution_count": 216
        }
      ]
    },
    {
      "cell_type": "code",
      "source": [
        "np.max(test, axis=1)"
      ],
      "metadata": {
        "colab": {
          "base_uri": "https://localhost:8080/"
        },
        "id": "trJowY59FswJ",
        "outputId": "5f132c9b-d191-4283-a73e-8dd44777d755"
      },
      "execution_count": null,
      "outputs": [
        {
          "output_type": "execute_result",
          "data": {
            "text/plain": [
              "array([5.56521739, 5.65217391, 5.82608696, 6.        ])"
            ]
          },
          "metadata": {},
          "execution_count": 217
        }
      ]
    },
    {
      "cell_type": "code",
      "source": [
        "# Średnia\n",
        "print(np.mean(test, axis=0))\n",
        "\n",
        "# Wariancja - średnia arytmetyczna kwadratów odchyleń od średniej arytmetycznej\n",
        "print(np.var(test, axis=0))\n",
        "\n",
        "# Odchylenie standardowe (sqrt(var))\n",
        "print(np.std(test, axis=0))\n",
        "\n",
        "print((np.std(test, axis=0))**2)"
      ],
      "metadata": {
        "colab": {
          "base_uri": "https://localhost:8080/"
        },
        "id": "wlJSEwThFyst",
        "outputId": "6f12e723-f74b-4f75-cd36-bb27cf92e89e"
      },
      "execution_count": null,
      "outputs": [
        {
          "output_type": "stream",
          "name": "stdout",
          "text": [
            "[4.76086957 5.17391304 5.39130435 4.97826087 4.91304348 4.7826087 ]\n",
            "[0.34924386 0.44801512 0.12854442 0.31521739 0.2362949  0.40075614]\n",
            "[0.59096857 0.66933932 0.35853092 0.56144224 0.48610173 0.63305303]\n",
            "[0.34924386 0.44801512 0.12854442 0.31521739 0.2362949  0.40075614]\n"
          ]
        }
      ]
    }
  ]
}